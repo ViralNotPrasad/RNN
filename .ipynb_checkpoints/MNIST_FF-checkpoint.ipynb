{
 "cells": [
  {
   "cell_type": "code",
   "execution_count": 1,
   "metadata": {},
   "outputs": [],
   "source": [
    "import tensorflow as tf\n",
    "import numpy as np\n",
    "import MNISTLoader"
   ]
  },
  {
   "cell_type": "code",
   "execution_count": 2,
   "metadata": {
    "collapsed": true
   },
   "outputs": [],
   "source": [
    "hidden_size=20\n",
    "feature_size=784\n",
    "output_size=10\n",
    "epochs=25\n",
    "alpha=1"
   ]
  },
  {
   "cell_type": "code",
   "execution_count": 3,
   "metadata": {
    "collapsed": true
   },
   "outputs": [],
   "source": [
    "#A=np.arrange(20).reshape(5,4)"
   ]
  },
  {
   "cell_type": "code",
   "execution_count": 4,
   "metadata": {},
   "outputs": [],
   "source": [
    "np.random.seed(100)\n",
    "tf.set_random_seed(100)\n",
    "w0=tf.Variable(np.random.randn(hidden_size,feature_size),dtype=tf.float32)\n",
    "w1=tf.Variable(np.random.randn(output_size,hidden_size),dtype=tf.float32)\n",
    "b0=tf.Variable(np.zeros((hidden_size,1)),dtype=tf.float32)\n",
    "b1=tf.Variable(np.zeros((output_size,1)),dtype=tf.float32)"
   ]
  },
  {
   "cell_type": "code",
   "execution_count": 5,
   "metadata": {
    "collapsed": true
   },
   "outputs": [],
   "source": [
    "x=tf.placeholder(tf.float32)\n",
    "y=tf.placeholder(tf.float32)"
   ]
  },
  {
   "cell_type": "code",
   "execution_count": 6,
   "metadata": {
    "collapsed": true
   },
   "outputs": [],
   "source": [
    "a0=tf.sigmoid(tf.matmul(w0,x)+b0)\n",
    "a1=tf.sigmoid(tf.matmul(w1,a0)+b1)"
   ]
  },
  {
   "cell_type": "code",
   "execution_count": 7,
   "metadata": {},
   "outputs": [],
   "source": [
    "train_data,valid_data,test_data=MNISTLoader.load_data_wrapper()"
   ]
  },
  {
   "cell_type": "code",
   "execution_count": 8,
   "metadata": {
    "collapsed": true
   },
   "outputs": [],
   "source": [
    "#CALCULATE COST\n",
    "cost=tf.reduce_sum(tf.reduce_mean((a1-y)**2,1))"
   ]
  },
  {
   "cell_type": "code",
   "execution_count": 9,
   "metadata": {
    "collapsed": true
   },
   "outputs": [],
   "source": [
    "optimizer=tf.train.GradientDescentOptimizer(alpha)\n",
    "training=optimizer.minimize(cost)"
   ]
  },
  {
   "cell_type": "code",
   "execution_count": 10,
   "metadata": {},
   "outputs": [
    {
     "name": "stdout",
     "output_type": "stream",
     "text": [
      "Epoch  0 : loss = 4.30095\n",
      "Epoch  1 : loss = 2.94144\n",
      "Epoch  2 : loss = 1.86845\n",
      "Epoch  3 : loss = 1.35166\n",
      "Epoch  4 : loss = 1.15373\n",
      "Epoch  5 : loss = 1.06992\n",
      "Epoch  6 : loss = 1.02679\n",
      "Epoch  7 : loss = 1.00118\n",
      "Epoch  8 : loss = 0.984389\n",
      "Epoch  9 : loss = 0.972547\n",
      "Epoch  10 : loss = 0.963705\n",
      "Epoch  11 : loss = 0.956793\n",
      "Epoch  12 : loss = 0.95118\n",
      "Epoch  13 : loss = 0.946471\n",
      "Epoch  14 : loss = 0.942411\n",
      "Epoch  15 : loss = 0.938829\n",
      "Epoch  16 : loss = 0.935605\n",
      "Epoch  17 : loss = 0.932657\n",
      "Epoch  18 : loss = 0.929923\n",
      "Epoch  19 : loss = 0.927361\n",
      "Epoch  20 : loss = 0.924937\n",
      "Epoch  21 : loss = 0.922626\n",
      "Epoch  22 : loss = 0.920411\n",
      "Epoch  23 : loss = 0.918279\n",
      "Epoch  24 : loss = 0.916217\n"
     ]
    }
   ],
   "source": [
    "with tf.Session() as sess:\n",
    "    sess.run(tf.global_variables_initializer())\n",
    "    \n",
    "    for i in range(epochs):\n",
    "        sess.run(training,feed_dict = {x:train_data[0],y:train_data[1]})\n",
    "        loss=sess.run(cost,feed_dict = {x:train_data[0],y:train_data[1]})\n",
    "        print(\"Epoch \", i, \": loss =\",loss)\n",
    "    nw0,nw1,nb0,nb1=sess.run([w0,w1,b0,b1])"
   ]
  },
  {
   "cell_type": "code",
   "execution_count": 11,
   "metadata": {},
   "outputs": [
    {
     "data": {
      "text/plain": [
       "'\\ng=tf.Graph()\\nwith g.as_default():\\n    xt=tf.placeholder(tf.float32)\\n    yt=tf.placeholder(tf.float32)\\n    nw0=tf.Constant(nw0)#Numpy se TensorFlow Const\\n    nw1=tf.Constant(nw1)\\n    nb0=tf.Constant(nb0)\\n    nb1=tf.Constant(nb1)\\n    \\n    na0=tf.sigmoid(tf.matmul(nw0,xt)+nb0)\\n    na1=tf.sigmoid(tf.matmul(nw1,na0)+nb1)\\n    \\n    with tf.Session() as sess:\\n        \\n       sess.run(tf.global_variables_initializer())\\n    \\n'"
      ]
     },
     "execution_count": 11,
     "metadata": {},
     "output_type": "execute_result"
    }
   ],
   "source": [
    "'''\n",
    "g=tf.Graph()\n",
    "with g.as_default():\n",
    "    xt=tf.placeholder(tf.float32)\n",
    "    yt=tf.placeholder(tf.float32)\n",
    "    nw0=tf.Constant(nw0)#Numpy se TensorFlow Const\n",
    "    nw1=tf.Constant(nw1)\n",
    "    nb0=tf.Constant(nb0)\n",
    "    nb1=tf.Constant(nb1)\n",
    "    \n",
    "    na0=tf.sigmoid(tf.matmul(nw0,xt)+nb0)\n",
    "    na1=tf.sigmoid(tf.matmul(nw1,na0)+nb1)\n",
    "    \n",
    "    with tf.Session() as sess:\n",
    "        \n",
    "       sess.run(tf.global_variables_initializer())\n",
    "    \n",
    "'''    "
   ]
  },
  {
   "cell_type": "code",
   "execution_count": 12,
   "metadata": {
    "collapsed": true
   },
   "outputs": [],
   "source": [
    "def sigmoid(z):\n",
    "    return 1.0/1.0+np.exp(-z)"
   ]
  },
  {
   "cell_type": "code",
   "execution_count": 13,
   "metadata": {},
   "outputs": [
    {
     "ename": "AttributeError",
     "evalue": "'Tensor' object has no attribute 'exp'",
     "output_type": "error",
     "traceback": [
      "\u001b[0;31m---------------------------------------------------------------------------\u001b[0m",
      "\u001b[0;31mAttributeError\u001b[0m                            Traceback (most recent call last)",
      "\u001b[0;32m<ipython-input-13-5155121f51c1>\u001b[0m in \u001b[0;36m<module>\u001b[0;34m()\u001b[0m\n\u001b[1;32m      2\u001b[0m \u001b[0myt\u001b[0m\u001b[0;34m=\u001b[0m\u001b[0mtest_data\u001b[0m\u001b[0;34m[\u001b[0m\u001b[0;36m1\u001b[0m\u001b[0;34m]\u001b[0m\u001b[0;34m\u001b[0m\u001b[0m\n\u001b[1;32m      3\u001b[0m \u001b[0;34m\u001b[0m\u001b[0m\n\u001b[0;32m----> 4\u001b[0;31m \u001b[0mna0\u001b[0m\u001b[0;34m=\u001b[0m\u001b[0msigmoid\u001b[0m\u001b[0;34m(\u001b[0m\u001b[0mtf\u001b[0m\u001b[0;34m.\u001b[0m\u001b[0mmatmul\u001b[0m\u001b[0;34m(\u001b[0m\u001b[0mnw0\u001b[0m\u001b[0;34m,\u001b[0m\u001b[0mxt\u001b[0m\u001b[0;34m)\u001b[0m\u001b[0;34m+\u001b[0m\u001b[0mnb0\u001b[0m\u001b[0;34m)\u001b[0m\u001b[0;34m\u001b[0m\u001b[0m\n\u001b[0m\u001b[1;32m      5\u001b[0m \u001b[0mna1\u001b[0m\u001b[0;34m=\u001b[0m\u001b[0msigmoid\u001b[0m\u001b[0;34m(\u001b[0m\u001b[0mtf\u001b[0m\u001b[0;34m.\u001b[0m\u001b[0mmatmul\u001b[0m\u001b[0;34m(\u001b[0m\u001b[0mnw1\u001b[0m\u001b[0;34m,\u001b[0m\u001b[0mna0\u001b[0m\u001b[0;34m)\u001b[0m\u001b[0;34m+\u001b[0m\u001b[0mnb1\u001b[0m\u001b[0;34m)\u001b[0m\u001b[0;34m\u001b[0m\u001b[0m\n\u001b[1;32m      6\u001b[0m \u001b[0;34m\u001b[0m\u001b[0m\n",
      "\u001b[0;32m<ipython-input-12-32d45bca1288>\u001b[0m in \u001b[0;36msigmoid\u001b[0;34m(z)\u001b[0m\n\u001b[1;32m      1\u001b[0m \u001b[0;32mdef\u001b[0m \u001b[0msigmoid\u001b[0m\u001b[0;34m(\u001b[0m\u001b[0mz\u001b[0m\u001b[0;34m)\u001b[0m\u001b[0;34m:\u001b[0m\u001b[0;34m\u001b[0m\u001b[0m\n\u001b[0;32m----> 2\u001b[0;31m     \u001b[0;32mreturn\u001b[0m \u001b[0;36m1.0\u001b[0m\u001b[0;34m/\u001b[0m\u001b[0;36m1.0\u001b[0m\u001b[0;34m+\u001b[0m\u001b[0mnp\u001b[0m\u001b[0;34m.\u001b[0m\u001b[0mexp\u001b[0m\u001b[0;34m(\u001b[0m\u001b[0;34m-\u001b[0m\u001b[0mz\u001b[0m\u001b[0;34m)\u001b[0m\u001b[0;34m\u001b[0m\u001b[0m\n\u001b[0m",
      "\u001b[0;31mAttributeError\u001b[0m: 'Tensor' object has no attribute 'exp'"
     ]
    }
   ],
   "source": [
    "xt=test_data[0]\n",
    "yt=test_data[1]\n",
    "\n",
    "na0=sigmoid(tf.matmul(nw0,xt)+nb0)\n",
    "na1=sigmoid(tf.matmul(nw1,na0)+nb1)\n",
    "\n",
    "predictions=a1.argmax(axis=0)\n",
    "\n",
    "myfilter =np.equal( predictions , y)\n",
    "accuracy=len(prediction[myfilter])/len(predictions)\n",
    "print(\"accuracy =\",accuracy)\n",
    "#(\"Epoch \", i, \": "
   ]
  }
 ],
 "metadata": {
  "kernelspec": {
   "display_name": "Python 3",
   "language": "python",
   "name": "python3"
  },
  "language_info": {
   "codemirror_mode": {
    "name": "ipython",
    "version": 3
   },
   "file_extension": ".py",
   "mimetype": "text/x-python",
   "name": "python",
   "nbconvert_exporter": "python",
   "pygments_lexer": "ipython3",
   "version": "3.6.3"
  }
 },
 "nbformat": 4,
 "nbformat_minor": 2
}
